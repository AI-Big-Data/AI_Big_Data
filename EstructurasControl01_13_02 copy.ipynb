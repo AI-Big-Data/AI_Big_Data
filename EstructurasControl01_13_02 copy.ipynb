{
 "cells": [
  {
   "cell_type": "markdown",
   "id": "db88faa6-060f-4cd6-8fb4-2a3cd290d916",
   "metadata": {},
   "source": [
    "### Ejercicio 1: Cálculo del promedio de glucosa\n",
    "  \n",
    "Dada una lista de niveles de glucosa en sangre, calcula el promedio y determina si está dentro del rango normal (70-99 mg/dL).\n",
    "\n",
    "Datos:  \n",
    "\n",
    "- glucosa = [85, 90, 105, 80, 95]\n"
   ]
  },
  {
   "cell_type": "code",
   "execution_count": null,
   "id": "719dcbf3-4913-479c-bad2-4119bad8ad7d",
   "metadata": {},
   "outputs": [],
   "source": []
  },
  {
   "cell_type": "markdown",
   "id": "75b0d4d1-dd3c-43c3-abad-7e5036356316",
   "metadata": {},
   "source": [
    "### Ejercicio 2: Clasificación de pacientes por edad\n",
    "  \n",
    "Crea una lista de edades y clasifica a los pacientes en \"Niños\", \"Adultos\" o \"Ancianos\".\n",
    "\n",
    "Datos:  \n",
    "\n",
    "- edades = [5, 23, 67, 45, 12, 78]"
   ]
  },
  {
   "cell_type": "code",
   "execution_count": null,
   "id": "8e9dfec9-7f09-4f1e-ac84-62aa176d05b6",
   "metadata": {},
   "outputs": [],
   "source": []
  },
  {
   "cell_type": "markdown",
   "id": "d0b6e006-25f0-45a3-85e3-1159b17ce114",
   "metadata": {},
   "source": [
    "### Ejercicio 3: Conteo de signos vitales anormales\n",
    " \n",
    "Dada una lista de frecuencias cardíacas, cuenta cuántas están fuera del rango normal (60-100).\n",
    "\n",
    "Datos:\n",
    "\n",
    "- frecuencias = [55, 70, 110, 85, 90, 120]\n"
   ]
  },
  {
   "cell_type": "code",
   "execution_count": null,
   "id": "55e27ec9-3084-4147-bacd-29afd4d9e2c0",
   "metadata": {},
   "outputs": [],
   "source": []
  },
  {
   "cell_type": "markdown",
   "id": "3f43a8a7-3b14-44ed-a0cc-d5a2e22efcc4",
   "metadata": {},
   "source": [
    "### Ejercicio 4: Vacunas pendientes por paciente\n",
    "\n",
    "Dado un diccionario con vacunas recibidas por cada paciente, muestra las vacunas faltantes.\n",
    "\n",
    "Datos: \n",
    "\n",
    "\n",
    "vacunas_obligatorias = {\"Sarampión\", \"Tétanos\", \"Rubeola\"}\n",
    "pacientes = {\n",
    "    \"Paciente1\": {\"Sarampión\", \"Tétanos\"},\n",
    "    \"Paciente2\": {\"Rubeola\"},\n",
    "    \"Paciente3\": {\"Sarampión\", \"Rubeola\", \"Tétanos\"}\n",
    "}\n"
   ]
  },
  {
   "cell_type": "code",
   "execution_count": null,
   "id": "e9510e2d-d2c3-4382-809e-4b7852c6309a",
   "metadata": {},
   "outputs": [],
   "source": []
  },
  {
   "cell_type": "markdown",
   "id": "f2eed056-1d8b-470d-b2d7-3e7423b3ebef",
   "metadata": {},
   "source": [
    "### Ejercicio 5: Cálculo de dosis personalizada\n",
    "  \n",
    "Calcula la dosis de medicamento para múltiples pacientes basándose en su peso y edad.\n",
    "\n",
    "Datos:  \n",
    "\n",
    "\n",
    "pacientes = [\n",
    "    {\"nombre\": \"Juan\", \"edad\": 10, \"peso\": 30},\n",
    "    {\"nombre\": \"María\", \"edad\": 35, \"peso\": 60},\n",
    "    {\"nombre\": \"Pedro\", \"edad\": 70, \"peso\": 75}\n",
    "]\n"
   ]
  },
  {
   "cell_type": "code",
   "execution_count": null,
   "id": "f9101212-6885-41e4-9d24-958121f44ed7",
   "metadata": {},
   "outputs": [],
   "source": []
  },
  {
   "cell_type": "markdown",
   "id": "cc86e430-125d-4b6e-b7cb-d6abfed03747",
   "metadata": {},
   "source": [
    "### Ejercicio 6: Monitoreo de temperatura corporal\n",
    "\n",
    "Evalúa si la temperatura corporal de varios pacientes está dentro del rango normal (36.1-37.2°C).\n",
    "\n",
    "Datos:  \n",
    "\n",
    "temperaturas = {\"Paciente1\": 36.5, \"Paciente2\": 38.0, \"Paciente3\": 37.0}\n"
   ]
  },
  {
   "cell_type": "code",
   "execution_count": null,
   "id": "fdb56890-6a9b-40fd-a59a-42ff0df9d59b",
   "metadata": {},
   "outputs": [],
   "source": []
  },
  {
   "cell_type": "markdown",
   "id": "4004064a-c13b-4dbc-9ca5-cd9722fdad05",
   "metadata": {},
   "source": [
    "### Ejercicio 7: Simulación de crecimiento bacteriano con restricciones\n",
    "\n",
    "Simula el crecimiento bacteriano hasta un límite máximo de 10,000 bacterias.\n",
    "\n",
    "Datos iniciales:  \n",
    "\n",
    "bacterias_iniciales = 100"
   ]
  },
  {
   "cell_type": "code",
   "execution_count": null,
   "id": "7e6c53d4-e343-4078-8999-b7ecb5f29292",
   "metadata": {},
   "outputs": [],
   "source": []
  },
  {
   "cell_type": "markdown",
   "id": "8982c568-9f25-47c7-8599-2c9686cd5a2c",
   "metadata": {},
   "source": [
    "### Ejercicio 8: Análisis de resultados de laboratorio\n",
    "\n",
    "Dado un diccionario con resultados de análisis, clasifica cada uno como \"Normal\" o \"Anormal\".\n",
    "\n",
    "Datos:  \n",
    "\n",
    "resultados = {\n",
    "    \"Glucosa\": 95,\n",
    "    \"Hemoglobina\": 12,\n",
    "    \"Creatinina\": 1.5\n",
    "}\n",
    "\n",
    "rangos_normales = {\n",
    "    \"Glucosa\": (70, 99),\n",
    "    \"Hemoglobina\": (11, 15),\n",
    "    \"Creatinina\": (0.6, 1.2)\n",
    "}\n"
   ]
  },
  {
   "cell_type": "code",
   "execution_count": null,
   "id": "57d741fd-6610-42c0-b4d7-20de991ff48a",
   "metadata": {},
   "outputs": [],
   "source": []
  },
  {
   "cell_type": "markdown",
   "id": "e2db1258-ddb9-41bf-b66c-95d26bb44db0",
   "metadata": {},
   "source": [
    "### Ejercicio 9: Asignación de tratamientos según diagnóstico\n",
    "\n",
    "Asigna un tratamiento específico según el diagnóstico de cada paciente.\n",
    "\n",
    "Datos:  \n",
    "\n",
    "diagnosticos = [\"Hipoglucemia\", \"Diabetes\", \"Prediabetes\"]\n",
    "tratamientos = {\n",
    "    \"Hipoglucemia\": \"Administrar glucosa\",\n",
    "    \"Diabetes\": \"Iniciar insulina\",\n",
    "    \"Prediabetes\": \"Cambios dietéticos\"\n",
    "}\n"
   ]
  },
  {
   "cell_type": "code",
   "execution_count": null,
   "id": "03f8b87f-ca2e-4900-ba57-44205da43e1f",
   "metadata": {},
   "outputs": [],
   "source": []
  },
  {
   "cell_type": "markdown",
   "id": "a74630e6-7cbe-4ba8-933e-3238121e8f95",
   "metadata": {},
   "source": [
    "### Ejercicio 10: Evaluación de múltiples signos vitales\n",
    "\n",
    "Evalúa varios signos vitales simultáneamente y genera un informe final.\n",
    "\n",
    "Datos:\n",
    "\n",
    "signos_vitales = {\n",
    "    \"Paciente1\": {\"FC\": 85, \"Temp\": 37.0, \"PS\": 110, \"PD\": 75},\n",
    "    \"Paciente2\": {\"FC\": 55, \"Temp\": 38.5, \"PS\": 140, \"PD\": 90}\n",
    "}\n"
   ]
  },
  {
   "cell_type": "code",
   "execution_count": null,
   "id": "4ae5b2fb-140f-4ae9-8663-87479ee4be98",
   "metadata": {},
   "outputs": [],
   "source": []
  },
  {
   "cell_type": "markdown",
   "id": "0f64af9d-7537-48aa-906a-68b7600d392e",
   "metadata": {},
   "source": [
    "### Ejercicio 11: Optimización de dosis en función de múltiples factores\n",
    "\n",
    "Calcula la dosis considerando peso, edad y nivel de severidad del síntoma.\n",
    "\n",
    "Datos:  \n",
    "\n",
    "pacientes = [\n",
    "    {\"nombre\": \"Ana\", \"edad\": 8, \"peso\": 25, \"severidad\": 5},\n",
    "    {\"nombre\": \"Carlos\", \"edad\": 45, \"peso\": 70, \"severidad\": 8}\n",
    "]"
   ]
  },
  {
   "cell_type": "code",
   "execution_count": null,
   "id": "a88e0aa2-61bc-4ef1-9a9f-bc6dae8b6071",
   "metadata": {},
   "outputs": [],
   "source": []
  },
  {
   "cell_type": "markdown",
   "id": "91c5c823-dfb5-43c6-b9a7-b3fe9b3a562b",
   "metadata": {},
   "source": [
    "### Ejercicio 12: Seguimiento de evolución clínica\n",
    "\n",
    "Registra la evolución de un paciente durante varias consultas.\n",
    "\n",
    "Datos:  \n",
    "\n",
    "evolucion = [\n",
    "    {\"fecha\": \"2023-10-01\", \"glucosa\": 95, \"presion\": (110, 75)},\n",
    "    {\"fecha\": \"2023-10-05\", \"glucosa\": 100, \"presion\": (120, 80)},\n",
    "    {\"fecha\": \"2023-10-10\", \"glucosa\": 110, \"presion\": (130, 85)}\n",
    "]"
   ]
  },
  {
   "cell_type": "code",
   "execution_count": null,
   "id": "bf7f3cc7-4f50-41dc-85b6-70374fd0e344",
   "metadata": {},
   "outputs": [],
   "source": []
  },
  {
   "cell_type": "markdown",
   "id": "5892a42e-1632-4678-9274-e8a95df306a5",
   "metadata": {},
   "source": [
    "### Ejercicio 13: Análisis de correlación entre variables\n",
    "  \n",
    "Determina si existe una correlación entre glucosa y presión arterial.\n",
    "\n",
    "Datos:  \n",
    "\n",
    "datos = [\n",
    "    {\"glucosa\": 95, \"presion\": (110, 75)},\n",
    "    {\"glucosa\": 100, \"presion\": (120, 80)},\n",
    "    {\"glucosa\": 110, \"presion\": (130, 85)}\n",
    "]"
   ]
  },
  {
   "cell_type": "code",
   "execution_count": null,
   "id": "0dca8ab4-b72d-45dc-b999-091398c8e6a6",
   "metadata": {},
   "outputs": [],
   "source": []
  },
  {
   "cell_type": "markdown",
   "id": "9bba3ac6-a44c-4047-97d4-432060110fed",
   "metadata": {},
   "source": [
    "### Ejercicio 14: Planificación de horarios de medicación\n",
    " \n",
    "Genera un horario de medicación para un paciente.\n",
    "\n",
    "Datos:  \n",
    "\n",
    "horas = [\"08:00\", \"12:00\", \"18:00\", \"22:00\"]\n",
    "medicamentos = [\"MedicamentoA\", \"MedicamentoB\"]\n"
   ]
  },
  {
   "cell_type": "code",
   "execution_count": null,
   "id": "d8b1f30a-e810-4d28-87a7-e54368d22822",
   "metadata": {},
   "outputs": [],
   "source": []
  },
  {
   "cell_type": "markdown",
   "id": "87000c11-f0f7-47b4-ab8e-44324649bc6a",
   "metadata": {},
   "source": [
    "### Ejercicio 15: Evaluación de efectividad de tratamientos\n",
    "  \n",
    "Compara la efectividad de diferentes tratamientos mediante un puntaje.\n",
    "\n",
    "Datos:  \n",
    "\n",
    "tratamientos = {\n",
    "    \"TratamientoA\": [85, 90, 95],\n",
    "    \"TratamientoB\": [70, 75, 80]\n",
    "}"
   ]
  },
  {
   "cell_type": "code",
   "execution_count": null,
   "id": "a88af64c-d89c-41a4-9f01-7d17699ea548",
   "metadata": {},
   "outputs": [],
   "source": []
  }
 ],
 "metadata": {
  "kernelspec": {
   "display_name": "Python 3 (ipykernel)",
   "language": "python",
   "name": "python3"
  },
  "language_info": {
   "codemirror_mode": {
    "name": "ipython",
    "version": 3
   },
   "file_extension": ".py",
   "mimetype": "text/x-python",
   "name": "python",
   "nbconvert_exporter": "python",
   "pygments_lexer": "ipython3",
   "version": "3.9.21"
  }
 },
 "nbformat": 4,
 "nbformat_minor": 5
}
