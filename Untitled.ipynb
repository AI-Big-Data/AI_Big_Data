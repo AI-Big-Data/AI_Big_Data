{
 "cells": [
  {
   "cell_type": "code",
   "execution_count": 6,
   "id": "e2d13fcc-9795-4673-a751-21c8c6539f92",
   "metadata": {},
   "outputs": [
    {
     "name": "stdout",
     "output_type": "stream",
     "text": [
      "Archivo CSV creado exitosamente.\n"
     ]
    }
   ],
   "source": [
    "import pandas as pd\n",
    "import numpy as np\n",
    "\n",
    "# Definir el número de registros\n",
    "np.random.seed(42)\n",
    "n_registros = 5000\n",
    "\n",
    "# Datos demográficos\n",
    "sexos = np.random.choice(['Male', 'Female'], size=n_registros)\n",
    "edades = np.random.randint(18, 90, size=n_registros)\n",
    "\n",
    "# Condiciones clínicas\n",
    "ascites = np.random.choice([0, 1], size=n_registros)\n",
    "hepatomegaly = np.random.choice([0, 1], size=n_registros)\n",
    "spiders = np.random.choice([0, 1], size=n_registros)\n",
    "edema = np.random.choice([0, 1], size=n_registros)\n",
    "\n",
    "# Marcadores bioquímicos\n",
    "bilirrubina = np.round(np.random.uniform(0.1, 10.0, size=n_registros), 2)\n",
    "colesterol = np.round(np.random.uniform(100, 300, size=n_registros), 2)\n",
    "albumina = np.round(np.random.uniform(2.0, 5.0, size=n_registros), 2)\n",
    "cobre = np.round(np.random.uniform(50, 200, size=n_registros), 2)\n",
    "fosfatasa_alcalina = np.round(np.random.uniform(50, 400, size=n_registros), 2)\n",
    "sgot = np.round(np.random.uniform(10, 100, size=n_registros), 2)\n",
    "trigliceridos = np.round(np.random.uniform(50, 300, size=n_registros), 2)\n",
    "plaquetas = np.round(np.random.uniform(100, 400, size=n_registros), 2)\n",
    "protrombina = np.round(np.random.uniform(8, 18, size=n_registros), 2)\n",
    "\n",
    "# Tratamientos y resultados\n",
    "medicamentos = np.random.choice(['DrugA', 'DrugB', 'DrugC'], size=n_registros)\n",
    "estado = np.random.choice(['Alive', 'Dead'], size=n_registros)\n",
    "etapa = np.random.randint(1, 5, size=n_registros)\n",
    "\n",
    "# Crear DataFrame\n",
    "df_sintetico = pd.DataFrame({\n",
    "    'Sex': sexos,\n",
    "    'Age': edades,\n",
    "    'Ascites': ascites,\n",
    "    'Hepatomegaly': hepatomegaly,\n",
    "    'Spiders': spiders,\n",
    "    'Edema': edema,\n",
    "    'Bilirubin': bilirrubina,\n",
    "    'Cholesterol': colesterol,\n",
    "    'Albumin': albumina,\n",
    "    'Copper': cobre,\n",
    "    'Alk_Phos': fosfatasa_alcalina,\n",
    "    'SGOT': sgot,\n",
    "    'Tryglicerides': trigliceridos,\n",
    "    'Platelets': plaquetas,\n",
    "    'Prothrombin': protrombina,\n",
    "    'Drug': medicamentos,\n",
    "    'Status': estado,\n",
    "    'Stage': etapa\n",
    "})\n",
    "\n",
    "# Guardar en un archivo CSV\n",
    "df_sintetico.to_csv('datos_biosanitarios_sinteticos.csv', index=False)\n",
    "print(\"Archivo CSV creado exitosamente.\")\n"
   ]
  },
  {
   "cell_type": "code",
   "execution_count": null,
   "id": "41eefd64-0714-41af-8451-7bc169d008db",
   "metadata": {},
   "outputs": [],
   "source": []
  }
 ],
 "metadata": {
  "kernelspec": {
   "display_name": "Python [conda env:base] *",
   "language": "python",
   "name": "conda-base-py"
  },
  "language_info": {
   "codemirror_mode": {
    "name": "ipython",
    "version": 3
   },
   "file_extension": ".py",
   "mimetype": "text/x-python",
   "name": "python",
   "nbconvert_exporter": "python",
   "pygments_lexer": "ipython3",
   "version": "3.12.2"
  }
 },
 "nbformat": 4,
 "nbformat_minor": 5
}
