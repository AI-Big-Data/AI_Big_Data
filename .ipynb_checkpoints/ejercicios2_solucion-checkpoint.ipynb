{
 "cells": [
  {
   "cell_type": "markdown",
   "id": "474be04d-7080-4ae8-9aed-a74e52e81468",
   "metadata": {},
   "source": [
    "1. Ejercicio: Indentación correcta\n",
    "Enunciado: Corrige el siguiente código para que funcione correctamente."
   ]
  },
  {
   "cell_type": "code",
   "execution_count": 3,
   "id": "8bb0bb3c-9ff4-495b-a396-6f08dbcf195c",
   "metadata": {},
   "outputs": [
    {
     "name": "stdout",
     "output_type": "stream",
     "text": [
      "El número 5 es mayor que 3\n"
     ]
    }
   ],
   "source": [
    "if 5 > 3:\n",
    "    print(\"El número 5 es mayor que 3\")"
   ]
  },
  {
   "cell_type": "markdown",
   "id": "5e7c2b23-add0-4b1c-b30f-d2bc751ede90",
   "metadata": {},
   "source": [
    "2. Ejercicio: Asignación de variables\n",
    "Enunciado: Asigna el valor 10 a la variable x y luego imprime el valor de x. Solución:"
   ]
  },
  {
   "cell_type": "code",
   "execution_count": 4,
   "id": "1d8dc8a6-923f-4df5-8ebe-0f6c6932298d",
   "metadata": {},
   "outputs": [
    {
     "name": "stdout",
     "output_type": "stream",
     "text": [
      "10\n"
     ]
    }
   ],
   "source": [
    "x = 10\n",
    "print(x)"
   ]
  },
  {
   "cell_type": "markdown",
   "id": "5ef4acd0-328a-4460-b6b8-d7b8e02451c7",
   "metadata": {},
   "source": [
    "3. Ejercicio: Comparación de números\n",
    "Enunciado: Crea una variable a con valor 7 y una variable b con valor 5. Compara si a es mayor que b e imprime el resultado. Solución:"
   ]
  },
  {
   "cell_type": "code",
   "execution_count": 5,
   "id": "a23b6b71-68b7-4213-acbe-132d84a01389",
   "metadata": {},
   "outputs": [
    {
     "name": "stdout",
     "output_type": "stream",
     "text": [
      "True\n"
     ]
    }
   ],
   "source": [
    "a = 7\n",
    "b = 5\n",
    "print(a > b)  # True"
   ]
  },
  {
   "cell_type": "markdown",
   "id": "99db6537-8119-4470-9bb4-e8bc1855f5b5",
   "metadata": {},
   "source": [
    "4. Ejercicio: Concatenación de cadenas\n",
    "Enunciado: Crea dos cadenas nombre = \"Juan\" y apellido = \"Pérez\". Imprime una nueva cadena que combine ambos valores con un espacio entre ellos. Solución:"
   ]
  },
  {
   "cell_type": "code",
   "execution_count": 6,
   "id": "29b95bc0-149b-4e96-89e5-9f2e08498043",
   "metadata": {},
   "outputs": [
    {
     "name": "stdout",
     "output_type": "stream",
     "text": [
      "Juan Pérez\n"
     ]
    }
   ],
   "source": [
    "nombre = \"Juan\"\n",
    "apellido = \"Pérez\"\n",
    "print(nombre + \" \" + apellido)  # Juan Pérez"
   ]
  },
  {
   "cell_type": "markdown",
   "id": "311d6863-38d2-4714-9728-a675f8580c56",
   "metadata": {},
   "source": [
    "5. Ejercicio: Comentarios\n",
    "Enunciado: Escribe un comentario en tu código explicando lo que hace la siguiente línea:"
   ]
  },
  {
   "cell_type": "code",
   "execution_count": 7,
   "id": "5975d5c6-dfe8-4077-8c25-b7bb94059f11",
   "metadata": {},
   "outputs": [],
   "source": [
    "# Asigna el valor 5 a la variable x\n",
    "x = 5"
   ]
  },
  {
   "cell_type": "markdown",
   "id": "9ab3174c-1c49-4b04-bac2-dd88f71295ec",
   "metadata": {},
   "source": [
    "6. Ejercicio: Uso de if\n",
    "Enunciado: Escribe un programa que compare dos números y diga si son iguales.\n",
    "a = 8\n",
    "b = 8"
   ]
  },
  {
   "cell_type": "code",
   "execution_count": 8,
   "id": "8a79a976-9c42-4893-95a6-ca12bfcebfee",
   "metadata": {},
   "outputs": [
    {
     "name": "stdout",
     "output_type": "stream",
     "text": [
      "Son iguales\n"
     ]
    }
   ],
   "source": [
    "a = 8\n",
    "b = 8\n",
    "if a == b:\n",
    "    print(\"Son iguales\")\n",
    "else:\n",
    "    print(\"Son diferentes\")\n"
   ]
  },
  {
   "cell_type": "markdown",
   "id": "12234a6c-1045-4e73-b6e2-bdb1c10b4d38",
   "metadata": {},
   "source": [
    "7. Ejercicio: Bucles for\n",
    "Enunciado: Escribe un ciclo for que imprima los números del 1 al 5. Solución:"
   ]
  },
  {
   "cell_type": "code",
   "execution_count": 9,
   "id": "0a3e8bff-2277-4d62-8a61-9fc0248c2639",
   "metadata": {},
   "outputs": [
    {
     "name": "stdout",
     "output_type": "stream",
     "text": [
      "1\n",
      "2\n",
      "3\n",
      "4\n",
      "5\n"
     ]
    }
   ],
   "source": [
    "for i in range(1, 6):\n",
    "    print(i)"
   ]
  },
  {
   "cell_type": "markdown",
   "id": "4caaae15-e2a7-4362-9c7e-82028c76efef",
   "metadata": {},
   "source": [
    "8. Ejercicio: Uso de while\n",
    "Enunciado: Escribe un ciclo while que imprima los números del 1 al 5. Solución:"
   ]
  },
  {
   "cell_type": "code",
   "execution_count": 10,
   "id": "89e64a40-2f08-4857-bf04-a6332a890601",
   "metadata": {},
   "outputs": [
    {
     "name": "stdout",
     "output_type": "stream",
     "text": [
      "1\n",
      "2\n",
      "3\n",
      "4\n",
      "5\n"
     ]
    }
   ],
   "source": [
    "i = 1\n",
    "while i <= 5:\n",
    "    print(i)\n",
    "    i += 1"
   ]
  },
  {
   "cell_type": "markdown",
   "id": "e1450700-9278-4ad5-96f7-f3debdf328b4",
   "metadata": {},
   "source": [
    "9. Ejercicio: Función simple\n",
    "Enunciado: Crea una función llamada saludo que reciba un nombre como parámetro y lo imprima junto con un saludo. Solución:"
   ]
  },
  {
   "cell_type": "code",
   "execution_count": 11,
   "id": "34c16a27-18b2-405c-be39-efe624325795",
   "metadata": {},
   "outputs": [
    {
     "name": "stdout",
     "output_type": "stream",
     "text": [
      "Hola, Ana\n"
     ]
    }
   ],
   "source": [
    "def saludo(nombre):\n",
    "    print(f\"Hola, {nombre}\")\n",
    "\n",
    "saludo(\"Ana\")  # Hola, Ana"
   ]
  },
  {
   "cell_type": "markdown",
   "id": "a05cd2cd-a0c5-4019-b39c-506e51b96034",
   "metadata": {},
   "source": [
    "10. Ejercicio: Tipos de datos\n",
    "Enunciado: Crea una variable edad con valor 25 y una variable nombre con valor \"Carlos\". Imprime el tipo de cada variable. Solución:"
   ]
  },
  {
   "cell_type": "code",
   "execution_count": 12,
   "id": "efe953a2-6fc2-493e-b025-d692bfc7f081",
   "metadata": {},
   "outputs": [
    {
     "name": "stdout",
     "output_type": "stream",
     "text": [
      "<class 'int'>\n",
      "<class 'str'>\n"
     ]
    }
   ],
   "source": [
    "edad = 25\n",
    "nombre = \"Carlos\"\n",
    "print(type(edad))  # <class 'int'>\n",
    "print(type(nombre))  # <class 'str'>"
   ]
  },
  {
   "cell_type": "markdown",
   "id": "a2fa925d-a369-424b-86e3-42c0b1b152e8",
   "metadata": {},
   "source": [
    "11. Ejercicio: Listas\n",
    "Enunciado: Crea una lista llamada frutas que contenga \"manzana\", \"banana\" y \"cereza\". Imprime el primer y último elemento de la lista. Solución:"
   ]
  },
  {
   "cell_type": "code",
   "execution_count": 13,
   "id": "57a1198d-f666-464a-9df9-6fb05ca32c2e",
   "metadata": {},
   "outputs": [
    {
     "name": "stdout",
     "output_type": "stream",
     "text": [
      "manzana\n",
      "cereza\n"
     ]
    }
   ],
   "source": [
    "frutas = [\"manzana\", \"banana\", \"cereza\"]\n",
    "print(frutas[0])  # manzana\n",
    "print(frutas[-1])  # cereza"
   ]
  },
  {
   "cell_type": "markdown",
   "id": "b4712f36-9043-467d-b487-85a701e5ae0e",
   "metadata": {},
   "source": [
    "12. Ejercicio: Operadores aritméticos\n",
    "Enunciado: Crea dos variables x = 8 y y = 4. Imprime el resultado de la suma, resta, multiplicación y división de x y y. Solución:"
   ]
  },
  {
   "cell_type": "code",
   "execution_count": 14,
   "id": "d271fc7c-cc73-4ce5-8d6f-e9a2cadc6338",
   "metadata": {},
   "outputs": [
    {
     "name": "stdout",
     "output_type": "stream",
     "text": [
      "12\n",
      "4\n",
      "32\n",
      "2.0\n"
     ]
    }
   ],
   "source": [
    "x = 8\n",
    "y = 4\n",
    "print(x + y)  # 12\n",
    "print(x - y)  # 4\n",
    "print(x * y)  # 32\n",
    "print(x / y)  # 2.0"
   ]
  },
  {
   "cell_type": "markdown",
   "id": "68635420-4d1b-456c-a32d-7402d1a719ad",
   "metadata": {},
   "source": [
    "13. Ejercicio: Manejo de excepciones\n",
    "Enunciado: Escribe un bloque de código que intente dividir 10 entre 0. Usa un bloque try y except para manejar la excepción de división por cero. Solución:"
   ]
  },
  {
   "cell_type": "code",
   "execution_count": 15,
   "id": "95707288-f212-4281-a26b-36a0dc8fbd2e",
   "metadata": {},
   "outputs": [
    {
     "name": "stdout",
     "output_type": "stream",
     "text": [
      "No se puede dividir entre cero\n"
     ]
    }
   ],
   "source": [
    "try:\n",
    "    print(10 / 0)\n",
    "except ZeroDivisionError:\n",
    "    print(\"No se puede dividir entre cero\")"
   ]
  },
  {
   "cell_type": "markdown",
   "id": "c8416bfa-df59-458d-a6e0-3baa49bab191",
   "metadata": {},
   "source": [
    "14. Ejercicio: Tuplas\n",
    "Enunciado: Crea una tupla llamada colores con los valores \"rojo\", \"verde\" y \"azul\". Imprime el valor del segundo color. Solución:"
   ]
  },
  {
   "cell_type": "code",
   "execution_count": 16,
   "id": "b5cf893c-de47-464e-b2bc-9a7962e9a941",
   "metadata": {},
   "outputs": [
    {
     "name": "stdout",
     "output_type": "stream",
     "text": [
      "verde\n"
     ]
    }
   ],
   "source": [
    "colores = (\"rojo\", \"verde\", \"azul\")\n",
    "print(colores[1])  # verde"
   ]
  },
  {
   "cell_type": "markdown",
   "id": "87e0d62a-1e84-4b34-b0c2-828ec4d4c5b4",
   "metadata": {},
   "source": [
    "15. Ejercicio: Diccionarios\n",
    "Enunciado: Crea un diccionario persona con las claves \"nombre\", \"edad\" y \"ciudad\". Imprime el valor de la clave \"nombre\". Solución:"
   ]
  },
  {
   "cell_type": "code",
   "execution_count": 17,
   "id": "be2ff30d-6e2b-4aef-b659-e24b72bcf979",
   "metadata": {},
   "outputs": [
    {
     "name": "stdout",
     "output_type": "stream",
     "text": [
      "Laura\n"
     ]
    }
   ],
   "source": [
    "persona = {\"nombre\": \"Laura\", \"edad\": 30, \"ciudad\": \"Madrid\"}\n",
    "print(persona[\"nombre\"])  # Laura"
   ]
  },
  {
   "cell_type": "markdown",
   "id": "9b37c1e8-f49a-4dd8-9d36-641e64b5f048",
   "metadata": {},
   "source": [
    "16. Ejercicio: Modificar listas\n",
    "Enunciado: Crea una lista numeros con los valores [1, 2, 3]. Agrega el número 4 al final de la lista y luego imprímela. Solución:"
   ]
  },
  {
   "cell_type": "code",
   "execution_count": 18,
   "id": "1e941e5d-7a50-4d5c-9f47-e119e412257d",
   "metadata": {},
   "outputs": [
    {
     "name": "stdout",
     "output_type": "stream",
     "text": [
      "[1, 2, 3, 4]\n"
     ]
    }
   ],
   "source": [
    "numeros = [1, 2, 3]\n",
    "numeros.append(4)\n",
    "print(numeros)  # [1, 2, 3, 4]"
   ]
  },
  {
   "cell_type": "markdown",
   "id": "c27f1497-9be1-445f-b9ce-0a590e07f894",
   "metadata": {},
   "source": [
    "17. Ejercicio: Uso de range\n",
    "Enunciado: Usa la función range() para generar una lista de números del 2 al 10, de 2 en 2. Solución:"
   ]
  },
  {
   "cell_type": "code",
   "execution_count": 19,
   "id": "6005883d-e283-4baa-8e1e-88dc2bc09874",
   "metadata": {},
   "outputs": [
    {
     "name": "stdout",
     "output_type": "stream",
     "text": [
      "[2, 4, 6, 8, 10]\n"
     ]
    }
   ],
   "source": [
    "numeros = list(range(2, 11, 2))\n",
    "print(numeros)  # [2, 4, 6, 8, 10]"
   ]
  },
  {
   "cell_type": "markdown",
   "id": "b86f0caf-fc51-420a-ae4a-3557b953534b",
   "metadata": {},
   "source": [
    "18. Ejercicio: Uso de input\n",
    "Enunciado: Pide al usuario que ingrese su nombre mediante input() y luego imprímelo. Solución:"
   ]
  },
  {
   "cell_type": "code",
   "execution_count": 20,
   "id": "748e225e-f08c-47c3-8670-2a3b7a4e347c",
   "metadata": {},
   "outputs": [
    {
     "name": "stdin",
     "output_type": "stream",
     "text": [
      "¿Cuál es tu nombre?  rafa\n"
     ]
    },
    {
     "name": "stdout",
     "output_type": "stream",
     "text": [
      "Hola, rafa\n"
     ]
    }
   ],
   "source": [
    "nombre = input(\"¿Cuál es tu nombre? \")\n",
    "print(f\"Hola, {nombre}\")"
   ]
  },
  {
   "cell_type": "markdown",
   "id": "2494976c-a5b0-44fd-bddd-cb9ea8b3b5f4",
   "metadata": {},
   "source": [
    "19. Ejercicio: Función con valor de retorno\n",
    "Enunciado: Crea una función llamada multiplicar que reciba dos números y retorne su producto. Solución:"
   ]
  },
  {
   "cell_type": "code",
   "execution_count": 21,
   "id": "41002d7d-1e4f-48e2-b5e3-74e6f06caad0",
   "metadata": {},
   "outputs": [
    {
     "name": "stdout",
     "output_type": "stream",
     "text": [
      "20\n"
     ]
    }
   ],
   "source": [
    "def multiplicar(a, b):\n",
    "    return a * b\n",
    "\n",
    "resultado = multiplicar(4, 5)\n",
    "print(resultado)  # 20"
   ]
  },
  {
   "cell_type": "markdown",
   "id": "aae63013-1e75-43fc-b572-c18a29efca04",
   "metadata": {},
   "source": [
    "20. Ejercicio: Comprobación de tipo de datos\n",
    "Enunciado: Crea una variable x con valor 10 y verifica si es un número entero. Imprime \"Es entero\" si es cierto, de lo contrario imprime \"No es entero\". Solución:"
   ]
  },
  {
   "cell_type": "code",
   "execution_count": 22,
   "id": "a2daafd1-232d-474b-a48f-f7e51e46861e",
   "metadata": {},
   "outputs": [
    {
     "name": "stdout",
     "output_type": "stream",
     "text": [
      "Es entero\n"
     ]
    }
   ],
   "source": [
    "x = 10\n",
    "if isinstance(x, int):\n",
    "    print(\"Es entero\")\n",
    "else:\n",
    "    print(\"No es entero\")"
   ]
  },
  {
   "cell_type": "code",
   "execution_count": null,
   "id": "dfe3c283-4725-4487-87df-335c855f7cfb",
   "metadata": {},
   "outputs": [],
   "source": []
  }
 ],
 "metadata": {
  "kernelspec": {
   "display_name": "Python 3 (ipykernel)",
   "language": "python",
   "name": "python3"
  },
  "language_info": {
   "codemirror_mode": {
    "name": "ipython",
    "version": 3
   },
   "file_extension": ".py",
   "mimetype": "text/x-python",
   "name": "python",
   "nbconvert_exporter": "python",
   "pygments_lexer": "ipython3",
   "version": "3.9.21"
  }
 },
 "nbformat": 4,
 "nbformat_minor": 5
}
