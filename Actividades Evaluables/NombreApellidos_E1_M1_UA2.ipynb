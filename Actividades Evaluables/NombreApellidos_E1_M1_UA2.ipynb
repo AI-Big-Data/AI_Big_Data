{
 "cells": [
  {
   "cell_type": "markdown",
   "id": "d867c95a-9ed5-4fc7-9c72-c7a4c00bcc6c",
   "metadata": {},
   "source": [
    "# E1: Análisis Exploratorio de Datos en Python con Pandas y NumPy"
   ]
  },
  {
   "cell_type": "markdown",
   "id": "d95214ae-93ff-4050-9c1a-b5c785db7f15",
   "metadata": {},
   "source": [
    "En esta prueba práctica, los estudiantes aplicarán sus conocimientos en Python y herramientas de análisis de datos dentro del entorno Jupyter Notebook. A partir de un dataset ficticio de pacientes, deberán demostrar su capacidad para:\n",
    "- Configurar el entorno de trabajo en Anaconda y Jupyter Notebook.\n",
    "- Utilizar Pandas y NumPy para la manipulación y exploración de datos.\n",
    "- Aplicar operaciones estadísticas básicas para extraer información relevante.\n",
    "- Generar visualizaciones de datos con Matplotlib.\n",
    "\n",
    "Este ejercicio tiene como objetivo evaluar la habilidad del estudiante para trabajar con datos en Python, desde su carga y preprocesamiento hasta su análisis y visualización. Se espera que los participantes estructuren su código de manera clara y utilicen buenas prácticas de programación.\n"
   ]
  },
  {
   "cell_type": "markdown",
   "id": "72b3cdf8-242a-4d8b-841c-80ab85670d23",
   "metadata": {},
   "source": [
    "#### Configuración del Entorno:\n",
    "\n",
    "- Verifica que las librerías necesarias (numpy y pandas) estén instaladas en tu entorno. Si no lo están, instálalas usando pip o conda.\n",
    "- Importa las librerías necesarias (numpy, pandas, matplotlib.pyplot) y muestra sus versiones en el notebook."
   ]
  },
  {
   "cell_type": "code",
   "execution_count": 1,
   "id": "5ec9ed6a-2e4a-41a4-9dfd-b788be6d2031",
   "metadata": {},
   "outputs": [
    {
     "name": "stdout",
     "output_type": "stream",
     "text": [
      "Version de NumPy: 2.2.3\n",
      "Version de Pandas: 2.2.3\n",
      "Version de Matplotlib: 3.10.0\n"
     ]
    }
   ],
   "source": [
    "import numpy as np\n",
    "import pandas as pd\n",
    "import matplotlib.pyplot as plt\n",
    "\n",
    "import time\n",
    "\n",
    "print(f\"Version de NumPy: {np.__version__}\")\n",
    "print(f\"Version de Pandas: {pd.__version__}\")\n",
    "print(f\"Version de Matplotlib: {plt.matplotlib.__version__}\")"
   ]
  },
  {
   "cell_type": "markdown",
   "id": "288d8028-aa7e-44b6-a9fc-e2c415f1a403",
   "metadata": {},
   "source": [
    "#### Carga y Exploración de Datos:\n",
    "\n",
    "- Descarga y carga el archivo datos_pacientes.csv en un DataFrame de Pandas.\n",
    "- Muestra las primeras 5 filas del dataset.\n",
    "- Obtén información sobre los tipos de datos y verifica la existencia de valores nulos en el dataset.\n"
   ]
  },
  {
   "cell_type": "code",
   "execution_count": 2,
   "id": "0a24c642-ee3b-4d50-b8be-40585df9917d",
   "metadata": {},
   "outputs": [
    {
     "data": {
      "text/html": [
       "<div>\n",
       "<style scoped>\n",
       "    .dataframe tbody tr th:only-of-type {\n",
       "        vertical-align: middle;\n",
       "    }\n",
       "\n",
       "    .dataframe tbody tr th {\n",
       "        vertical-align: top;\n",
       "    }\n",
       "\n",
       "    .dataframe thead th {\n",
       "        text-align: right;\n",
       "    }\n",
       "</style>\n",
       "<table border=\"1\" class=\"dataframe\">\n",
       "  <thead>\n",
       "    <tr style=\"text-align: right;\">\n",
       "      <th></th>\n",
       "      <th>ID</th>\n",
       "      <th>Edad</th>\n",
       "      <th>Género</th>\n",
       "      <th>Peso</th>\n",
       "      <th>Altura</th>\n",
       "      <th>Presión_Arterial</th>\n",
       "    </tr>\n",
       "  </thead>\n",
       "  <tbody>\n",
       "    <tr>\n",
       "      <th>0</th>\n",
       "      <td>1</td>\n",
       "      <td>71</td>\n",
       "      <td>F</td>\n",
       "      <td>116.4</td>\n",
       "      <td>1.69</td>\n",
       "      <td>143</td>\n",
       "    </tr>\n",
       "    <tr>\n",
       "      <th>1</th>\n",
       "      <td>2</td>\n",
       "      <td>34</td>\n",
       "      <td>M</td>\n",
       "      <td>67.7</td>\n",
       "      <td>1.50</td>\n",
       "      <td>127</td>\n",
       "    </tr>\n",
       "    <tr>\n",
       "      <th>2</th>\n",
       "      <td>3</td>\n",
       "      <td>80</td>\n",
       "      <td>M</td>\n",
       "      <td>75.1</td>\n",
       "      <td>1.69</td>\n",
       "      <td>137</td>\n",
       "    </tr>\n",
       "    <tr>\n",
       "      <th>3</th>\n",
       "      <td>4</td>\n",
       "      <td>40</td>\n",
       "      <td>M</td>\n",
       "      <td>76.6</td>\n",
       "      <td>1.90</td>\n",
       "      <td>116</td>\n",
       "    </tr>\n",
       "    <tr>\n",
       "      <th>4</th>\n",
       "      <td>5</td>\n",
       "      <td>43</td>\n",
       "      <td>M</td>\n",
       "      <td>92.4</td>\n",
       "      <td>1.80</td>\n",
       "      <td>109</td>\n",
       "    </tr>\n",
       "  </tbody>\n",
       "</table>\n",
       "</div>"
      ],
      "text/plain": [
       "   ID  Edad Género   Peso  Altura  Presión_Arterial\n",
       "0   1    71      F  116.4    1.69               143\n",
       "1   2    34      M   67.7    1.50               127\n",
       "2   3    80      M   75.1    1.69               137\n",
       "3   4    40      M   76.6    1.90               116\n",
       "4   5    43      M   92.4    1.80               109"
      ]
     },
     "execution_count": 2,
     "metadata": {},
     "output_type": "execute_result"
    }
   ],
   "source": [
    "df = pd.read_csv(\"datos_pacientes.csv\")\n",
    "df.head()"
   ]
  },
  {
   "cell_type": "code",
   "execution_count": 3,
   "id": "a6c88286-2b8b-42fa-b3e4-b6aec9ba0ef3",
   "metadata": {},
   "outputs": [
    {
     "name": "stdout",
     "output_type": "stream",
     "text": [
      "<class 'pandas.core.frame.DataFrame'>\n",
      "RangeIndex: 1000 entries, 0 to 999\n",
      "Data columns (total 6 columns):\n",
      " #   Column            Non-Null Count  Dtype  \n",
      "---  ------            --------------  -----  \n",
      " 0   ID                1000 non-null   int64  \n",
      " 1   Edad              1000 non-null   int64  \n",
      " 2   Género            1000 non-null   object \n",
      " 3   Peso              1000 non-null   float64\n",
      " 4   Altura            1000 non-null   float64\n",
      " 5   Presión_Arterial  1000 non-null   int64  \n",
      "dtypes: float64(2), int64(3), object(1)\n",
      "memory usage: 47.0+ KB\n"
     ]
    }
   ],
   "source": [
    "# Obtén información sobre los tipos de datos\n",
    "df.info()"
   ]
  },
  {
   "cell_type": "code",
   "execution_count": 4,
   "id": "a25f2d0f-1922-4422-a612-bcde638efed0",
   "metadata": {},
   "outputs": [
    {
     "name": "stdout",
     "output_type": "stream",
     "text": [
      "ID                  0\n",
      "Edad                0\n",
      "Género              0\n",
      "Peso                0\n",
      "Altura              0\n",
      "Presión_Arterial    0\n",
      "dtype: int64\n"
     ]
    }
   ],
   "source": [
    "# verificar los valores nulos\n",
    "print(df.isnull().sum())"
   ]
  },
  {
   "cell_type": "markdown",
   "id": "ca82ba59-cd41-41db-9931-f96cdb4b5055",
   "metadata": {},
   "source": [
    "#### Análisis Estadístico con Pandas:\n",
    "\n",
    "- Muestra un resumen estadístico de las variables numéricas.\n",
    "- Calcula la edad promedio de los pacientes y el número de pacientes por género.\n",
    "- Identifica cuántos pacientes tienen una presión arterial superior a 130 mmHg."
   ]
  },
  {
   "cell_type": "code",
   "execution_count": 5,
   "id": "3ed4b329-9548-4426-84b6-c2da7d09ffed",
   "metadata": {},
   "outputs": [
    {
     "data": {
      "text/html": [
       "<div>\n",
       "<style scoped>\n",
       "    .dataframe tbody tr th:only-of-type {\n",
       "        vertical-align: middle;\n",
       "    }\n",
       "\n",
       "    .dataframe tbody tr th {\n",
       "        vertical-align: top;\n",
       "    }\n",
       "\n",
       "    .dataframe thead th {\n",
       "        text-align: right;\n",
       "    }\n",
       "</style>\n",
       "<table border=\"1\" class=\"dataframe\">\n",
       "  <thead>\n",
       "    <tr style=\"text-align: right;\">\n",
       "      <th></th>\n",
       "      <th>ID</th>\n",
       "      <th>Edad</th>\n",
       "      <th>Peso</th>\n",
       "      <th>Altura</th>\n",
       "      <th>Presión_Arterial</th>\n",
       "    </tr>\n",
       "  </thead>\n",
       "  <tbody>\n",
       "    <tr>\n",
       "      <th>count</th>\n",
       "      <td>1000.000000</td>\n",
       "      <td>1000.000000</td>\n",
       "      <td>1000.00000</td>\n",
       "      <td>1000.000000</td>\n",
       "      <td>1000.00000</td>\n",
       "    </tr>\n",
       "    <tr>\n",
       "      <th>mean</th>\n",
       "      <td>500.500000</td>\n",
       "      <td>54.195000</td>\n",
       "      <td>84.51870</td>\n",
       "      <td>1.757730</td>\n",
       "      <td>135.25200</td>\n",
       "    </tr>\n",
       "    <tr>\n",
       "      <th>std</th>\n",
       "      <td>288.819436</td>\n",
       "      <td>20.521747</td>\n",
       "      <td>20.12022</td>\n",
       "      <td>0.141855</td>\n",
       "      <td>25.85767</td>\n",
       "    </tr>\n",
       "    <tr>\n",
       "      <th>min</th>\n",
       "      <td>1.000000</td>\n",
       "      <td>20.000000</td>\n",
       "      <td>50.00000</td>\n",
       "      <td>1.500000</td>\n",
       "      <td>90.00000</td>\n",
       "    </tr>\n",
       "    <tr>\n",
       "      <th>25%</th>\n",
       "      <td>250.750000</td>\n",
       "      <td>36.000000</td>\n",
       "      <td>66.50000</td>\n",
       "      <td>1.640000</td>\n",
       "      <td>112.00000</td>\n",
       "    </tr>\n",
       "    <tr>\n",
       "      <th>50%</th>\n",
       "      <td>500.500000</td>\n",
       "      <td>54.000000</td>\n",
       "      <td>84.75000</td>\n",
       "      <td>1.760000</td>\n",
       "      <td>136.00000</td>\n",
       "    </tr>\n",
       "    <tr>\n",
       "      <th>75%</th>\n",
       "      <td>750.250000</td>\n",
       "      <td>72.000000</td>\n",
       "      <td>102.05000</td>\n",
       "      <td>1.880000</td>\n",
       "      <td>157.00000</td>\n",
       "    </tr>\n",
       "    <tr>\n",
       "      <th>max</th>\n",
       "      <td>1000.000000</td>\n",
       "      <td>89.000000</td>\n",
       "      <td>119.80000</td>\n",
       "      <td>2.000000</td>\n",
       "      <td>179.00000</td>\n",
       "    </tr>\n",
       "  </tbody>\n",
       "</table>\n",
       "</div>"
      ],
      "text/plain": [
       "                ID         Edad        Peso       Altura  Presión_Arterial\n",
       "count  1000.000000  1000.000000  1000.00000  1000.000000        1000.00000\n",
       "mean    500.500000    54.195000    84.51870     1.757730         135.25200\n",
       "std     288.819436    20.521747    20.12022     0.141855          25.85767\n",
       "min       1.000000    20.000000    50.00000     1.500000          90.00000\n",
       "25%     250.750000    36.000000    66.50000     1.640000         112.00000\n",
       "50%     500.500000    54.000000    84.75000     1.760000         136.00000\n",
       "75%     750.250000    72.000000   102.05000     1.880000         157.00000\n",
       "max    1000.000000    89.000000   119.80000     2.000000         179.00000"
      ]
     },
     "execution_count": 5,
     "metadata": {},
     "output_type": "execute_result"
    }
   ],
   "source": [
    "# Muestra un resumen estadístico de las variables numéricas\n",
    "df.describe()"
   ]
  },
  {
   "cell_type": "code",
   "execution_count": 6,
   "id": "26b4fe82-dcc4-4267-b7bc-12023c2dda4e",
   "metadata": {},
   "outputs": [
    {
     "name": "stdout",
     "output_type": "stream",
     "text": [
      "La edad promedio es: 54.2\n"
     ]
    }
   ],
   "source": [
    "# Calcula la edad promedio de los pacientes\n",
    "edad_promedio = df['Edad'].mean()\n",
    "print(f\"La edad promedio es: {edad_promedio:.1f}\")"
   ]
  },
  {
   "cell_type": "code",
   "execution_count": 7,
   "id": "6e09171a-3161-4d29-901b-e88c4f5eda16",
   "metadata": {},
   "outputs": [
    {
     "name": "stdout",
     "output_type": "stream",
     "text": [
      "Número de pacientes por género: Género\n",
      "M    502\n",
      "F    498\n",
      "Name: count, dtype: int64\n"
     ]
    }
   ],
   "source": [
    "numero_pacientes_genero = df['Género'].value_counts()\n",
    "print(f\"Número de pacientes por género: {numero_pacientes_genero}\")"
   ]
  },
  {
   "cell_type": "code",
   "execution_count": 8,
   "id": "8d683791-524a-4b58-a68f-4f8d423ec281",
   "metadata": {},
   "outputs": [
    {
     "name": "stdout",
     "output_type": "stream",
     "text": [
      "Número pacientes tienen una presión arterial superior a 130 mmHg:  555\n"
     ]
    }
   ],
   "source": [
    "# pacientes tienen una presión arterial superior a 130 mmHg.\n",
    "pacientes_presion_alta = df[df['Presión_Arterial'] > 130]\n",
    "\n",
    "numero_pacientes = pacientes_presion_alta.shape[0]\n",
    "print(f\"Número pacientes tienen una presión arterial superior a 130 mmHg:  {numero_pacientes}\")"
   ]
  },
  {
   "attachments": {},
   "cell_type": "markdown",
   "id": "1a0fffd9-335b-4731-8e69-5ebf826318cc",
   "metadata": {},
   "source": [
    "#### Manipulación de Datos con NumPy y Pandas:\n",
    "\n",
    "- Crea una nueva columna llamada IMC (Índice de Masa Corporal, BMI) utilizando la fórmula: \n",
    "\n",
    "<img src=https://www.eufic.org/en/media/images/2.2._bmi_img_1_.png width=\"250\">\n",
    "\n",
    "- Agrega una columna categórica Estado_IMC que clasifique a los pacientes en:\n",
    "    - Bajo peso (IMC < 18.5)\n",
    "    - Normal (IMC entre 18.5 y 24.9)\n",
    "    - Sobrepeso (IMC entre 25 y 29.9)\n",
    "    - Obesidad (IMC >= 30)\n",
    "- Muestra la cantidad de pacientes en cada categoría de Estado_IMC.\n"
   ]
  },
  {
   "cell_type": "code",
   "execution_count": 9,
   "id": "a7706be6-2b2b-4ddc-9ea9-cd6f010f293f",
   "metadata": {},
   "outputs": [
    {
     "data": {
      "text/html": [
       "<div>\n",
       "<style scoped>\n",
       "    .dataframe tbody tr th:only-of-type {\n",
       "        vertical-align: middle;\n",
       "    }\n",
       "\n",
       "    .dataframe tbody tr th {\n",
       "        vertical-align: top;\n",
       "    }\n",
       "\n",
       "    .dataframe thead th {\n",
       "        text-align: right;\n",
       "    }\n",
       "</style>\n",
       "<table border=\"1\" class=\"dataframe\">\n",
       "  <thead>\n",
       "    <tr style=\"text-align: right;\">\n",
       "      <th></th>\n",
       "      <th>ID</th>\n",
       "      <th>Edad</th>\n",
       "      <th>Género</th>\n",
       "      <th>Peso</th>\n",
       "      <th>Altura</th>\n",
       "      <th>Presión_Arterial</th>\n",
       "      <th>IMC</th>\n",
       "    </tr>\n",
       "  </thead>\n",
       "  <tbody>\n",
       "    <tr>\n",
       "      <th>0</th>\n",
       "      <td>1</td>\n",
       "      <td>71</td>\n",
       "      <td>F</td>\n",
       "      <td>116.4</td>\n",
       "      <td>1.69</td>\n",
       "      <td>143</td>\n",
       "      <td>40.754876</td>\n",
       "    </tr>\n",
       "    <tr>\n",
       "      <th>1</th>\n",
       "      <td>2</td>\n",
       "      <td>34</td>\n",
       "      <td>M</td>\n",
       "      <td>67.7</td>\n",
       "      <td>1.50</td>\n",
       "      <td>127</td>\n",
       "      <td>30.088889</td>\n",
       "    </tr>\n",
       "    <tr>\n",
       "      <th>2</th>\n",
       "      <td>3</td>\n",
       "      <td>80</td>\n",
       "      <td>M</td>\n",
       "      <td>75.1</td>\n",
       "      <td>1.69</td>\n",
       "      <td>137</td>\n",
       "      <td>26.294598</td>\n",
       "    </tr>\n",
       "    <tr>\n",
       "      <th>3</th>\n",
       "      <td>4</td>\n",
       "      <td>40</td>\n",
       "      <td>M</td>\n",
       "      <td>76.6</td>\n",
       "      <td>1.90</td>\n",
       "      <td>116</td>\n",
       "      <td>21.218837</td>\n",
       "    </tr>\n",
       "    <tr>\n",
       "      <th>4</th>\n",
       "      <td>5</td>\n",
       "      <td>43</td>\n",
       "      <td>M</td>\n",
       "      <td>92.4</td>\n",
       "      <td>1.80</td>\n",
       "      <td>109</td>\n",
       "      <td>28.518519</td>\n",
       "    </tr>\n",
       "  </tbody>\n",
       "</table>\n",
       "</div>"
      ],
      "text/plain": [
       "   ID  Edad Género   Peso  Altura  Presión_Arterial        IMC\n",
       "0   1    71      F  116.4    1.69               143  40.754876\n",
       "1   2    34      M   67.7    1.50               127  30.088889\n",
       "2   3    80      M   75.1    1.69               137  26.294598\n",
       "3   4    40      M   76.6    1.90               116  21.218837\n",
       "4   5    43      M   92.4    1.80               109  28.518519"
      ]
     },
     "execution_count": 9,
     "metadata": {},
     "output_type": "execute_result"
    }
   ],
   "source": [
    "# Crea una nueva columna llamada IMC\n",
    "df['IMC'] = df['Peso']/(df['Altura'] ** 2)\n",
    "df.head()"
   ]
  },
  {
   "cell_type": "code",
   "execution_count": 14,
   "id": "b3a247a0-c890-45da-901b-fe24cdf5f013",
   "metadata": {},
   "outputs": [
    {
     "name": "stdout",
     "output_type": "stream",
     "text": [
      "El tiempo de ejecución: 0.0017731189727783203\n"
     ]
    }
   ],
   "source": [
    "start1 = time.time()\n",
    "# clasifica el estado de IMC\n",
    "\n",
    "def calcular_edo (imc):\n",
    "    if imc < 18.5:\n",
    "        return 'Bajo peso'\n",
    "    elif 18.5 <= imc < 24.9:\n",
    "        return 'Normal'\n",
    "    elif 25 <= imc < 29.9:\n",
    "        return 'Sobrepeso'\n",
    "    else:\n",
    "        return 'Obesidad'\n",
    "\n",
    "df['Estado_IMC'] = df['IMC'].apply(calcular_edo)\n",
    "\n",
    "print(f\"El tiempo de ejecución: {time.time() - start1}\")"
   ]
  },
  {
   "cell_type": "code",
   "execution_count": 11,
   "id": "c46184cf-4ba8-4d60-8f0b-b15cb877546b",
   "metadata": {},
   "outputs": [
    {
     "name": "stdout",
     "output_type": "stream",
     "text": [
      "La cantidad de pacientes es: Estado_IMC\n",
      "Obesidad     395\n",
      "Normal       249\n",
      "Sobrepeso    219\n",
      "Bajo peso    137\n",
      "Name: count, dtype: int64\n"
     ]
    }
   ],
   "source": [
    "# Mostrar la cantida de pacientes\n",
    "conteo_imc = df['Estado_IMC'].value_counts()\n",
    "print(f\"La cantidad de pacientes es: {conteo_imc}\") "
   ]
  },
  {
   "cell_type": "markdown",
   "id": "a0bcdf7e-8681-44e1-9639-5d9eb524c3c1",
   "metadata": {},
   "source": [
    "#### Visualización de Datos:\n",
    "\n",
    "- Genera un gráfico de barras que muestre la cantidad de pacientes en cada categoría de Estado_IMC.\n",
    "- Usa matplotlib para personalizar el gráfico con título, etiquetas y colores adecuados.\n"
   ]
  },
  {
   "cell_type": "code",
   "execution_count": 12,
   "id": "398998d5-ddac-4514-8519-9dbc0a2fb4f9",
   "metadata": {},
   "outputs": [
    {
     "data": {
      "image/png": "[encoded data removed]",
      "text/plain": [
       "<Figure size 500x500 with 1 Axes>"
      ]
     },
     "metadata": {},
     "output_type": "display_data"
    }
   ],
   "source": [
    "# Visualización de los datos\n",
    "plt.figure(figsize=(5,5))\n",
    "conteo_imc.plot(kind=\"bar\", color=[\"red\", \"green\", \"orange\", \"gray\" ])\n",
    "\n",
    "plt.title(\"Visualización de los datos\")\n",
    "plt.xlabel(\"Categorias IMC\")\n",
    "plt.ylabel(\"Cantidad de pacientes\")\n",
    "plt.xticks(rotation=45)\n",
    "plt.grid(axis=\"y\", linestyle=\"--\", alpha=0.7)\n",
    "plt.show()"
   ]
  },
  {
   "cell_type": "code",
   "execution_count": 13,
   "id": "852496bf-f1bd-47bc-892f-d3d99116979e",
   "metadata": {},
   "outputs": [
    {
     "name": "stdout",
     "output_type": "stream",
     "text": [
      "El tiempo de ejecución: 0.002705812454223633\n"
     ]
    }
   ],
   "source": [
    "# numpy.select()\n",
    "import time\n",
    "\n",
    "start = time.time()\n",
    "# definir las condiciones a clasificar\n",
    "condiciones = [\n",
    "    df[\"IMC\"] < 18.5,\n",
    "    (df[\"IMC\"] >= 18.5) & (df[\"IMC\"] <= 24.9),\n",
    "    (df[\"IMC\"] >= 25) & (df[\"IMC\"] < 29),\n",
    "    df[\"IMC\"] >= 30\n",
    "]\n",
    "\n",
    "# definir las categorias\n",
    "categorias = [\"Bajo peso\", \"Normal\", \"Sobrepeso\", \"Obesidad\"]\n",
    "\n",
    "df['Estado_IMC'] = np.select(condiciones, categorias, default=\"Desconocido\")\n",
    "\n",
    "print(f\"El tiempo de ejecución: {time.time() - start}\")\n"
   ]
  }
 ],
 "metadata": {
  "kernelspec": {
   "display_name": "Python 3 (ipykernel)",
   "language": "python",
   "name": "python3"
  },
  "language_info": {
   "codemirror_mode": {
    "name": "ipython",
    "version": 3
   },
   "file_extension": ".py",
   "mimetype": "text/x-python",
   "name": "python",
   "nbconvert_exporter": "python",
   "pygments_lexer": "ipython3",
   "version": "3.12.9"
  }
 },
 "nbformat": 4,
 "nbformat_minor": 5
}
