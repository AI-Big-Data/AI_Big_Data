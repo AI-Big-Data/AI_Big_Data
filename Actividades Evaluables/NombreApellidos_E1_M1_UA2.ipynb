{
 "cells": [
  {
   "cell_type": "markdown",
   "id": "d867c95a-9ed5-4fc7-9c72-c7a4c00bcc6c",
   "metadata": {},
   "source": [
    "# E1: Análisis Exploratorio de Datos en Python con Pandas y NumPy"
   ]
  },
  {
   "cell_type": "markdown",
   "id": "d95214ae-93ff-4050-9c1a-b5c785db7f15",
   "metadata": {},
   "source": [
    "En esta prueba práctica, los estudiantes aplicarán sus conocimientos en Python y herramientas de análisis de datos dentro del entorno Jupyter Notebook. A partir de un dataset ficticio de pacientes, deberán demostrar su capacidad para:\n",
    "- Configurar el entorno de trabajo en Anaconda y Jupyter Notebook.\n",
    "- Utilizar Pandas y NumPy para la manipulación y exploración de datos.\n",
    "- Aplicar operaciones estadísticas básicas para extraer información relevante.\n",
    "- Generar visualizaciones de datos con Matplotlib.\n",
    "\n",
    "Este ejercicio tiene como objetivo evaluar la habilidad del estudiante para trabajar con datos en Python, desde su carga y preprocesamiento hasta su análisis y visualización. Se espera que los participantes estructuren su código de manera clara y utilicen buenas prácticas de programación.\n"
   ]
  },
  {
   "cell_type": "markdown",
   "id": "72b3cdf8-242a-4d8b-841c-80ab85670d23",
   "metadata": {},
   "source": [
    "#### Configuración del Entorno:\n",
    "\n",
    "- Verifica que las librerías necesarias (numpy y pandas) estén instaladas en tu entorno. Si no lo están, instálalas usando pip o conda.\n",
    "- Importa las librerías necesarias (numpy, pandas, matplotlib.pyplot) y muestra sus versiones en el notebook."
   ]
  },
  {
   "cell_type": "code",
   "execution_count": null,
   "id": "5ec9ed6a-2e4a-41a4-9dfd-b788be6d2031",
   "metadata": {},
   "outputs": [],
   "source": []
  },
  {
   "cell_type": "markdown",
   "id": "288d8028-aa7e-44b6-a9fc-e2c415f1a403",
   "metadata": {},
   "source": [
    "#### Carga y Exploración de Datos:\n",
    "\n",
    "- Descarga y carga el archivo datos_pacientes.csv en un DataFrame de Pandas.\n",
    "- Muestra las primeras 5 filas del dataset.\n",
    "- Obtén información sobre los tipos de datos y verifica la existencia de valores nulos en el dataset.\n"
   ]
  },
  {
   "cell_type": "code",
   "execution_count": null,
   "id": "0a24c642-ee3b-4d50-b8be-40585df9917d",
   "metadata": {},
   "outputs": [],
   "source": []
  },
  {
   "cell_type": "code",
   "execution_count": null,
   "id": "a6c88286-2b8b-42fa-b3e4-b6aec9ba0ef3",
   "metadata": {},
   "outputs": [],
   "source": []
  },
  {
   "cell_type": "code",
   "execution_count": null,
   "id": "a25f2d0f-1922-4422-a612-bcde638efed0",
   "metadata": {},
   "outputs": [],
   "source": []
  },
  {
   "cell_type": "markdown",
   "id": "ca82ba59-cd41-41db-9931-f96cdb4b5055",
   "metadata": {},
   "source": [
    "#### Análisis Estadístico con Pandas:\n",
    "\n",
    "- Muestra un resumen estadístico de las variables numéricas.\n",
    "- Calcula la edad promedio de los pacientes y el número de pacientes por género.\n",
    "- Identifica cuántos pacientes tienen una presión arterial superior a 130 mmHg."
   ]
  },
  {
   "cell_type": "code",
   "execution_count": null,
   "id": "3ed4b329-9548-4426-84b6-c2da7d09ffed",
   "metadata": {},
   "outputs": [],
   "source": []
  },
  {
   "cell_type": "code",
   "execution_count": null,
   "id": "26b4fe82-dcc4-4267-b7bc-12023c2dda4e",
   "metadata": {},
   "outputs": [],
   "source": []
  },
  {
   "cell_type": "code",
   "execution_count": null,
   "id": "6e09171a-3161-4d29-901b-e88c4f5eda16",
   "metadata": {},
   "outputs": [],
   "source": []
  },
  {
   "cell_type": "code",
   "execution_count": null,
   "id": "8d683791-524a-4b58-a68f-4f8d423ec281",
   "metadata": {},
   "outputs": [],
   "source": []
  },
  {
   "attachments": {},
   "cell_type": "markdown",
   "id": "1a0fffd9-335b-4731-8e69-5ebf826318cc",
   "metadata": {},
   "source": [
    "#### Manipulación de Datos con NumPy y Pandas:\n",
    "\n",
    "- Crea una nueva columna llamada IMC (Índice de Masa Corporal, BMI) utilizando la fórmula: \n",
    "\n",
    "<img src=https://www.eufic.org/en/media/images/2.2._bmi_img_1_.png width=\"250\">\n",
    "\n",
    "- Agrega una columna categórica Estado_IMC que clasifique a los pacientes en:\n",
    "    - Bajo peso (IMC < 18.5)\n",
    "    - Normal (IMC entre 18.5 y 24.9)\n",
    "    - Sobrepeso (IMC entre 25 y 29.9)\n",
    "    - Obesidad (IMC >= 30)\n",
    "- Muestra la cantidad de pacientes en cada categoría de Estado_IMC.\n"
   ]
  },
  {
   "cell_type": "code",
   "execution_count": null,
   "id": "a7706be6-2b2b-4ddc-9ea9-cd6f010f293f",
   "metadata": {},
   "outputs": [],
   "source": []
  },
  {
   "cell_type": "code",
   "execution_count": null,
   "id": "b3a247a0-c890-45da-901b-fe24cdf5f013",
   "metadata": {},
   "outputs": [],
   "source": []
  },
  {
   "cell_type": "code",
   "execution_count": 1,
   "id": "c46184cf-4ba8-4d60-8f0b-b15cb877546b",
   "metadata": {},
   "outputs": [],
   "source": [
    "# Mostrar la cantida de pacientes\n"
   ]
  },
  {
   "cell_type": "markdown",
   "id": "a0bcdf7e-8681-44e1-9639-5d9eb524c3c1",
   "metadata": {},
   "source": [
    "#### Visualización de Datos:\n",
    "\n",
    "- Genera un gráfico de barras que muestre la cantidad de pacientes en cada categoría de Estado_IMC.\n",
    "- Usa matplotlib para personalizar el gráfico con título, etiquetas y colores adecuados.\n"
   ]
  },
  {
   "cell_type": "code",
   "execution_count": 2,
   "id": "398998d5-ddac-4514-8519-9dbc0a2fb4f9",
   "metadata": {},
   "outputs": [],
   "source": [
    "# Visualización de los datos\n"
   ]
  },
  {
   "cell_type": "code",
   "execution_count": null,
   "id": "852496bf-f1bd-47bc-892f-d3d99116979e",
   "metadata": {},
   "outputs": [],
   "source": []
  }
 ],
 "metadata": {
  "kernelspec": {
   "display_name": "Python 3 (ipykernel)",
   "language": "python",
   "name": "python3"
  },
  "language_info": {
   "codemirror_mode": {
    "name": "ipython",
    "version": 3
   },
   "file_extension": ".py",
   "mimetype": "text/x-python",
   "name": "python",
   "nbconvert_exporter": "python",
   "pygments_lexer": "ipython3",
   "version": "3.12.9"
  }
 },
 "nbformat": 4,
 "nbformat_minor": 5
}
